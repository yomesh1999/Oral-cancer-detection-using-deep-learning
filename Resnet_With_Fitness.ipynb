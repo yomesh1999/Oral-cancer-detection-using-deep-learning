{
  "nbformat": 4,
  "nbformat_minor": 0,
  "metadata": {
    "colab": {
      "provenance": []
    },
    "kernelspec": {
      "name": "python3",
      "display_name": "Python 3"
    },
    "language_info": {
      "name": "python"
    }
  },
  "cells": [
    {
      "cell_type": "code",
      "execution_count": null,
      "metadata": {
        "id": "VQow3BZtEZkK",
        "colab": {
          "base_uri": "https://localhost:8080/"
        },
        "outputId": "dbf3b2e0-dc72-477a-c9cc-ada08d1f09df"
      },
      "outputs": [
        {
          "output_type": "stream",
          "name": "stdout",
          "text": [
            "--2023-04-16 10:03:57--  https://www.dropbox.com/s/9019cpkapt5zm4w/Pic_OralCancer.rar?dl=0\n",
            "Resolving www.dropbox.com (www.dropbox.com)... 162.125.6.18, 2620:100:601b:18::a27d:812\n",
            "Connecting to www.dropbox.com (www.dropbox.com)|162.125.6.18|:443... connected.\n",
            "HTTP request sent, awaiting response... 302 Found\n",
            "Location: /s/raw/9019cpkapt5zm4w/Pic_OralCancer.rar [following]\n",
            "--2023-04-16 10:03:57--  https://www.dropbox.com/s/raw/9019cpkapt5zm4w/Pic_OralCancer.rar\n",
            "Reusing existing connection to www.dropbox.com:443.\n",
            "HTTP request sent, awaiting response... 302 Found\n",
            "Location: https://ucd08045fcb0dd30f7069be11096.dl.dropboxusercontent.com/cd/0/inline/B6S2dicli9yzW9A3jNEX_Vv-cHTcq1_ODbF7b37ucSxtQ9TDg1BjP28yRkddBBEA0IDa05E-PiT-enGEibJL6eYUotiDzhrFfKflA30XlAkypM2h-f7VVKT5XPYGwnnATcV2OkuM0dTMU1Ry3tB5kcr5T2cHEUV4pg6RFIS-FnvXNA/file# [following]\n",
            "--2023-04-16 10:03:57--  https://ucd08045fcb0dd30f7069be11096.dl.dropboxusercontent.com/cd/0/inline/B6S2dicli9yzW9A3jNEX_Vv-cHTcq1_ODbF7b37ucSxtQ9TDg1BjP28yRkddBBEA0IDa05E-PiT-enGEibJL6eYUotiDzhrFfKflA30XlAkypM2h-f7VVKT5XPYGwnnATcV2OkuM0dTMU1Ry3tB5kcr5T2cHEUV4pg6RFIS-FnvXNA/file\n",
            "Resolving ucd08045fcb0dd30f7069be11096.dl.dropboxusercontent.com (ucd08045fcb0dd30f7069be11096.dl.dropboxusercontent.com)... 162.125.4.15, 2620:100:6019:15::a27d:40f\n",
            "Connecting to ucd08045fcb0dd30f7069be11096.dl.dropboxusercontent.com (ucd08045fcb0dd30f7069be11096.dl.dropboxusercontent.com)|162.125.4.15|:443... connected.\n",
            "HTTP request sent, awaiting response... 302 Found\n",
            "Location: /cd/0/inline2/B6SZ5mlC6jEZTjXJy2aXOOpNm0702VMboruyJfRNG0P-NcCpruClf2TB3kn1LRO5QqX8YTSyHlYVxJyFMNBezVjmdS-XjiTTk7Zq3vm5RUgi9UdDyLJGg8ixTGzccXi_djpoZ8O7EhnFOFjIwEb_-HfhAvqg2EyDanUe-zL-M2HdX66He4GdaEZcfl5hvTSe7mtG2RupLmcHIgWwd-B_T6HFgN2N3Lk2T_qLo8YaKjEaxRdtZIQUMoq5QtP6zkPAHozQtEUdAH5gBcMMIauB7OXG9p11W2ex_NkU5haZ_1ki3YjWFS2GLwmQa6xzexjYF3iGr7FPRF5P4B_Jg7RLDpT_C3Ujt_Yv_eQVFOu7qkjR5xWmqZrGTHxVEazKxkU_f8G5vzDbGlU3VY_jU5thmtbMyCM046cnND9q5smby-H5EA/file [following]\n",
            "--2023-04-16 10:03:58--  https://ucd08045fcb0dd30f7069be11096.dl.dropboxusercontent.com/cd/0/inline2/B6SZ5mlC6jEZTjXJy2aXOOpNm0702VMboruyJfRNG0P-NcCpruClf2TB3kn1LRO5QqX8YTSyHlYVxJyFMNBezVjmdS-XjiTTk7Zq3vm5RUgi9UdDyLJGg8ixTGzccXi_djpoZ8O7EhnFOFjIwEb_-HfhAvqg2EyDanUe-zL-M2HdX66He4GdaEZcfl5hvTSe7mtG2RupLmcHIgWwd-B_T6HFgN2N3Lk2T_qLo8YaKjEaxRdtZIQUMoq5QtP6zkPAHozQtEUdAH5gBcMMIauB7OXG9p11W2ex_NkU5haZ_1ki3YjWFS2GLwmQa6xzexjYF3iGr7FPRF5P4B_Jg7RLDpT_C3Ujt_Yv_eQVFOu7qkjR5xWmqZrGTHxVEazKxkU_f8G5vzDbGlU3VY_jU5thmtbMyCM046cnND9q5smby-H5EA/file\n",
            "Reusing existing connection to ucd08045fcb0dd30f7069be11096.dl.dropboxusercontent.com:443.\n",
            "HTTP request sent, awaiting response... 200 OK\n",
            "Length: 28965691 (28M) [application/rar]\n",
            "Saving to: ‘Pic_OralCancer.rar?dl=0’\n",
            "\n",
            "Pic_OralCancer.rar? 100%[===================>]  27.62M   162MB/s    in 0.2s    \n",
            "\n",
            "2023-04-16 10:03:58 (162 MB/s) - ‘Pic_OralCancer.rar?dl=0’ saved [28965691/28965691]\n",
            "\n"
          ]
        }
      ],
      "source": [
        "!wget https://www.dropbox.com/s/9019cpkapt5zm4w/Pic_OralCancer.rar?dl=0"
      ]
    },
    {
      "cell_type": "code",
      "source": [
        "import warnings\n",
        "warnings.filterwarnings(\"ignore\")\n",
        "\n",
        "import os\n",
        "import glob\n",
        "import cv2\n",
        "from pathlib import Path\n",
        "\n",
        "import numpy as np\n",
        "import pandas as pd\n",
        "import matplotlib.pyplot as plt\n",
        "import seaborn as sns\n",
        "\n",
        "from skimage.io import imread, imsave\n",
        "from skimage.transform import resize\n",
        "from sklearn.model_selection import train_test_split\n",
        "from tensorflow.keras.models import Model\n",
        "from tensorflow.keras import layers\n",
        "from tensorflow.keras.applications import vgg16\n",
        "from tensorflow.keras.utils import to_categorical\n",
        "from tensorflow.keras.optimizers import SGD, Adam, RMSprop\n",
        "\n",
        "import tensorflow as tf\n",
        "import tensorflow.keras.backend as K\n",
        "import numpy as np\n",
        "import matplotlib.pyplot as plt\n",
        "import os\n",
        "import math\n",
        "import shutil\n",
        "import glob"
      ],
      "metadata": {
        "id": "m7GGsNvUhFRP"
      },
      "execution_count": null,
      "outputs": []
    },
    {
      "cell_type": "code",
      "source": [
        "!pip install patool\n",
        "import patoolib\n",
        "patoolib.extract_archive(\"/content/Pic_OralCancer.rar?dl=0\")"
      ],
      "metadata": {
        "colab": {
          "base_uri": "https://localhost:8080/",
          "height": 139
        },
        "id": "oNSkZ1JahRIV",
        "outputId": "cee9e547-f93e-4836-e15c-f3a9c480d548"
      },
      "execution_count": null,
      "outputs": [
        {
          "output_type": "stream",
          "name": "stdout",
          "text": [
            "Looking in indexes: https://pypi.org/simple, https://us-python.pkg.dev/colab-wheels/public/simple/\n",
            "Requirement already satisfied: patool in /usr/local/lib/python3.9/dist-packages (1.12)\n",
            "patool: Extracting /content/Pic_OralCancer.rar?dl=0 ...\n",
            "patool: running /usr/bin/unrar x -- /content/Pic_OralCancer.rar?dl=0\n",
            "patool:     with cwd='./Unpack_hxdbq6og'\n",
            "patool: ... /content/Pic_OralCancer.rar?dl=0 extracted to `Pic_OralCancer'.\n"
          ]
        },
        {
          "output_type": "execute_result",
          "data": {
            "text/plain": [
              "'Pic_OralCancer'"
            ],
            "application/vnd.google.colaboratory.intrinsic+json": {
              "type": "string"
            }
          },
          "metadata": {},
          "execution_count": 5
        }
      ]
    },
    {
      "cell_type": "code",
      "source": [
        "# Count number of images in respective classes\n",
        "#ROOT_DIR = \"/content/train\"\n",
        "ROOT_DIR = \"/content/Pic_OralCancer\"\n",
        "number_of_images = {}\n",
        "for dir in os.listdir(ROOT_DIR):\n",
        "  number_of_images[dir] = len(os.listdir(os.path.join(ROOT_DIR, dir)))\n",
        "\n",
        "image_count=number_of_images.items()\n",
        "print(image_count)"
      ],
      "metadata": {
        "colab": {
          "base_uri": "https://localhost:8080/"
        },
        "id": "Lnwg0y2EhSTN",
        "outputId": "f0cb9cda-6db0-46f9-e4f9-bf9a883ea945"
      },
      "execution_count": null,
      "outputs": [
        {
          "output_type": "stream",
          "name": "stdout",
          "text": [
            "dict_items([('cancer', 87), ('non-cancer', 44)])\n"
          ]
        }
      ]
    },
    {
      "cell_type": "code",
      "source": [
        "import os\n",
        "import random\n",
        "import cv2\n",
        "import imgaug.augmenters as iaa\n",
        "\n",
        "def augment_images(input_path, output_path, cancer_type):\n",
        "    if not os.path.exists(output_path):\n",
        "        os.makedirs(output_path)\n",
        "\n",
        "    # Define augmentations\n",
        "    sometimes = lambda aug: iaa.Sometimes(0.5, aug)\n",
        "    seq = iaa.Sequential(\n",
        "        [\n",
        "            iaa.Fliplr(0.5),\n",
        "            iaa.Flipud(0.5),\n",
        "            sometimes(iaa.Affine(rotate=(-45, 45))),\n",
        "            sometimes(iaa.GaussianBlur(sigma=(0, 3.0))),\n",
        "            sometimes(iaa.AdditiveGaussianNoise(loc=0, scale=(0.0, 0.05*255), per_channel=0.5)),\n",
        "            sometimes(iaa.Multiply((0.5, 1.5), per_channel=0.5)),\n",
        "            sometimes(iaa.ContrastNormalization((0.75, 1.5), per_channel=0.5)),\n",
        "            sometimes(iaa.Grayscale(alpha=(0.0, 1.0))),\n",
        "        ],\n",
        "        random_order=True\n",
        "    )\n",
        "\n",
        "    for filename in os.listdir(input_path):\n",
        "        if not filename.endswith('.png') and not filename.endswith('.jpg') and not filename.endswith('.jpeg'):\n",
        "            continue\n",
        "\n",
        "        # Load image\n",
        "        image = cv2.imread(os.path.join(input_path, filename))\n",
        "        image = cv2.cvtColor(image, cv2.COLOR_BGR2RGB)\n",
        "\n",
        "        # Augment images based on cancer type\n",
        "        if cancer_type == 'cancer':\n",
        "            n_augmentations = random.randint(4, 5)\n",
        "        else:\n",
        "            n_augmentations = random.randint(5, 8)\n",
        "\n",
        "        images_aug = seq.augment_images([image] * n_augmentations)\n",
        "\n",
        "        # Save augmented images to output directory\n",
        "        for i in range(n_augmentations):\n",
        "            output_filename = os.path.splitext(filename)[0] + f'_aug{i+1}.png'\n",
        "            cv2.imwrite(os.path.join(output_path, output_filename), images_aug[i], params=[cv2.IMWRITE_PNG_COMPRESSION, 9])\n"
      ],
      "metadata": {
        "id": "c1sl8gkmhaTV"
      },
      "execution_count": null,
      "outputs": []
    },
    {
      "cell_type": "code",
      "source": [
        "#Test cancer Images\n",
        "\n",
        "input_path = '/content/Pic_OralCancer/non-cancer'\n",
        "output_path = '/content/Pic_OralCancer/non-cancer'\n",
        "cancer_type = 'non-cancer'\n",
        "\n",
        "augment_images(input_path, output_path, cancer_type)"
      ],
      "metadata": {
        "id": "CoNW0y_rhbkt"
      },
      "execution_count": null,
      "outputs": []
    },
    {
      "cell_type": "code",
      "source": [
        "#Test cancer Images\n",
        "#augment_images(\"/content/test/cancer\", \"/content/test/cancer\", \"cancer\")\n",
        "input_path = '/content/Pic_OralCancer/cancer'\n",
        "output_path = '/content/Pic_OralCancer/cancer'\n",
        "cancer_type = 'cancer'\n",
        "\n",
        "augment_images(input_path, output_path, cancer_type)"
      ],
      "metadata": {
        "id": "Ogl9gCvRhc0x"
      },
      "execution_count": null,
      "outputs": []
    },
    {
      "cell_type": "code",
      "source": [
        "# Count number of images in respective classes\n",
        "ROOT_DIR = \"/content/Pic_OralCancer\"\n",
        "number_of_images = {}\n",
        "for dir in os.listdir(ROOT_DIR):\n",
        "  number_of_images[dir] = len(os.listdir(os.path.join(ROOT_DIR, dir)))\n",
        "\n",
        "image_count=number_of_images.items()\n",
        "print(image_count)"
      ],
      "metadata": {
        "colab": {
          "base_uri": "https://localhost:8080/"
        },
        "id": "1ehHeUcZiPHy",
        "outputId": "55113dd7-dd7b-43b6-96ec-ecd62dfcb78b"
      },
      "execution_count": null,
      "outputs": [
        {
          "output_type": "stream",
          "name": "stdout",
          "text": [
            "dict_items([('cancer', 476), ('non-cancer', 318)])\n"
          ]
        }
      ]
    },
    {
      "cell_type": "code",
      "source": [
        "!pip install genetic_algorithm"
      ],
      "metadata": {
        "colab": {
          "base_uri": "https://localhost:8080/"
        },
        "id": "qz0lMIeQlW1M",
        "outputId": "c4290dd7-c9a1-4b4a-e99b-7ecee9db6983"
      },
      "execution_count": null,
      "outputs": [
        {
          "output_type": "stream",
          "name": "stdout",
          "text": [
            "Looking in indexes: https://pypi.org/simple, https://us-python.pkg.dev/colab-wheels/public/simple/\n",
            "Collecting genetic_algorithm\n",
            "  Downloading genetic_algorithm-1.0.0.tar.gz (6.9 kB)\n",
            "  Preparing metadata (setup.py) ... \u001b[?25l\u001b[?25hdone\n",
            "Requirement already satisfied: numpy in /usr/local/lib/python3.9/dist-packages (from genetic_algorithm) (1.22.4)\n",
            "Requirement already satisfied: pandas in /usr/local/lib/python3.9/dist-packages (from genetic_algorithm) (1.5.3)\n",
            "Requirement already satisfied: scipy in /usr/local/lib/python3.9/dist-packages (from genetic_algorithm) (1.10.1)\n",
            "Requirement already satisfied: python-dateutil>=2.8.1 in /usr/local/lib/python3.9/dist-packages (from pandas->genetic_algorithm) (2.8.2)\n",
            "Requirement already satisfied: pytz>=2020.1 in /usr/local/lib/python3.9/dist-packages (from pandas->genetic_algorithm) (2022.7.1)\n",
            "Requirement already satisfied: six>=1.5 in /usr/local/lib/python3.9/dist-packages (from python-dateutil>=2.8.1->pandas->genetic_algorithm) (1.16.0)\n",
            "Building wheels for collected packages: genetic_algorithm\n",
            "  Building wheel for genetic_algorithm (setup.py) ... \u001b[?25l\u001b[?25hdone\n",
            "  Created wheel for genetic_algorithm: filename=genetic_algorithm-1.0.0-py3-none-any.whl size=7637 sha256=75ad473b61f655da7c8609ba36e64ed346a8a4e0ecbd95f3d28f5620a93e17cd\n",
            "  Stored in directory: /root/.cache/pip/wheels/52/d3/63/fc1fcb6e86b4fdc03ade6b91cc0d767d9221dbb3bb4011b2c8\n",
            "Successfully built genetic_algorithm\n",
            "Installing collected packages: genetic_algorithm\n",
            "Successfully installed genetic_algorithm-1.0.0\n"
          ]
        }
      ]
    },
    {
      "cell_type": "code",
      "source": [
        "def datafolder(p,split):\n",
        "  if not os.path.exists(\"./\"+p):\n",
        "    os.mkdir(\"./\"+p)\n",
        "\n",
        "  for dir in os.listdir(ROOT_DIR):\n",
        "    os.makedirs(\"./\"+p+\"/\"+dir)\n",
        "    for img in np.random.choice(a = os.listdir(os.path.join(ROOT_DIR, dir)) ,\n",
        "                                size =(math.floor(split*number_of_images[dir])-5),\n",
        "                                replace=False ):\n",
        "      O = os.path.join(ROOT_DIR,dir,img)  #path\n",
        "      D = os.path.join(\"./\"+p,dir)\n",
        "      shutil.copy(O,D)\n",
        "      os.remove(O)\n",
        "\n",
        "  else :\n",
        "    print(f\"{p}Folder exists\")"
      ],
      "metadata": {
        "id": "m3581t8HllMO"
      },
      "execution_count": null,
      "outputs": []
    },
    {
      "cell_type": "code",
      "source": [
        "datafolder(\"train\",0.7)\n",
        "datafolder(\"val\",0.3)"
      ],
      "metadata": {
        "colab": {
          "base_uri": "https://localhost:8080/"
        },
        "id": "jR3CT-MEln64",
        "outputId": "51820922-7046-4ac5-cd56-f5d2a10f1225"
      },
      "execution_count": null,
      "outputs": [
        {
          "output_type": "stream",
          "name": "stdout",
          "text": [
            "trainFolder exists\n",
            "valFolder exists\n"
          ]
        }
      ]
    },
    {
      "cell_type": "code",
      "source": [
        "!pip install lsoptim"
      ],
      "metadata": {
        "colab": {
          "base_uri": "https://localhost:8080/"
        },
        "id": "362-HTKVpbyG",
        "outputId": "9d74cbad-9843-4656-ebe5-0a02c220ac73"
      },
      "execution_count": null,
      "outputs": [
        {
          "output_type": "stream",
          "name": "stdout",
          "text": [
            "Looking in indexes: https://pypi.org/simple, https://us-python.pkg.dev/colab-wheels/public/simple/\n",
            "\u001b[31mERROR: Could not find a version that satisfies the requirement lsoptim (from versions: none)\u001b[0m\u001b[31m\n",
            "\u001b[0m\u001b[31mERROR: No matching distribution found for lsoptim\u001b[0m\u001b[31m\n",
            "\u001b[0m"
          ]
        }
      ]
    },
    {
      "cell_type": "code",
      "source": [
        "!pip install deap"
      ],
      "metadata": {
        "colab": {
          "base_uri": "https://localhost:8080/"
        },
        "id": "TdISNwmIyeVI",
        "outputId": "2626589d-1be2-4d5a-f6e5-417e3dec518d"
      },
      "execution_count": null,
      "outputs": [
        {
          "output_type": "stream",
          "name": "stdout",
          "text": [
            "Looking in indexes: https://pypi.org/simple, https://us-python.pkg.dev/colab-wheels/public/simple/\n",
            "Requirement already satisfied: deap in /usr/local/lib/python3.9/dist-packages (1.3.3)\n",
            "Requirement already satisfied: numpy in /usr/local/lib/python3.9/dist-packages (from deap) (1.22.4)\n"
          ]
        }
      ]
    },
    {
      "cell_type": "code",
      "source": [
        "import random\n",
        "import tensorflow as tf\n",
        "from deap import base, creator, tools\n",
        "\n",
        "# Set the training directory path\n",
        "train_dir = '/content/train'\n",
        "\n",
        "# Load and preprocess the data\n",
        "train_data = tf.keras.preprocessing.image_dataset_from_directory(\n",
        "    train_dir,\n",
        "    image_size=(224, 224),\n",
        "    batch_size=32)\n",
        "\n",
        "# Define the evaluation function\n",
        "def evaluate(individual):\n",
        "    # Unpack the hyperparameters\n",
        "    learning_rate, batch_size = individual\n",
        "\n",
        "    # Define the model\n",
        "    model = tf.keras.applications.ResNet50(\n",
        "        include_top=True,\n",
        "        weights=None,\n",
        "        input_shape=(224, 224, 3),\n",
        "        classes=2)\n",
        "\n",
        "    # Compile the model\n",
        "    model.compile(optimizer=tf.keras.optimizers.Adam(learning_rate=learning_rate),\n",
        "                  loss='sparse_categorical_crossentropy',\n",
        "                  metrics=['accuracy'])\n",
        "\n",
        "    # Train the model\n",
        "    history = model.fit(train_data.batch(batch_size),\n",
        "                        epochs=10,\n",
        "                        verbose=0)\n",
        "\n",
        "    # Return the validation accuracy as fitness\n",
        "    return history.history['val_accuracy'][-1],\n",
        "\n",
        "# Set up the DEAP optimization framework\n",
        "creator.create(\"FitnessMax\", base.Fitness, weights=(1.0,))\n",
        "creator.create(\"Individual\", list, fitness=creator.FitnessMax)\n",
        "\n",
        "toolbox = base.Toolbox()\n",
        "toolbox.register(\"learning_rate\", random.uniform, 0.0001, 0.1)\n",
        "toolbox.register(\"batch_size\", random.randint, 8, 64)\n",
        "toolbox.register(\"individual\", tools.initCycle, creator.Individual,\n",
        "                 (toolbox.learning_rate, toolbox.batch_size), n=1)\n",
        "toolbox.register(\"population\", tools.initRepeat, list, toolbox.individual)\n",
        "toolbox.register(\"evaluate\", evaluate)\n",
        "toolbox.register(\"mate\", tools.cxTwoPoint)\n",
        "toolbox.register(\"mutate\", tools.mutGaussian, mu=0, sigma=1, indpb=0.1)\n",
        "toolbox.register(\"select\", tools.selTournament, tournsize=3)\n",
        "\n",
        "# Set up the optimization parameters\n",
        "pop_size = 10\n",
        "num_generations = 10\n",
        "\n",
        "# Initialize the population\n",
        "pop = toolbox.population(n=pop_size)\n"
      ],
      "metadata": {
        "id": "BZzNSo1R02yq",
        "outputId": "0d244b14-3f2c-4c4c-cb8b-f6a6dde708a6",
        "colab": {
          "base_uri": "https://localhost:8080/"
        }
      },
      "execution_count": null,
      "outputs": [
        {
          "output_type": "stream",
          "name": "stdout",
          "text": [
            "Found 545 files belonging to 2 classes.\n"
          ]
        }
      ]
    },
    {
      "cell_type": "code",
      "source": [],
      "metadata": {
        "id": "YAFZ-fl2046e"
      },
      "execution_count": null,
      "outputs": []
    }
  ]
}